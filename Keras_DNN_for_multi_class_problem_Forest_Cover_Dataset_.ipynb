{
  "nbformat": 4,
  "nbformat_minor": 0,
  "metadata": {
    "colab": {
      "name": "Keras DNN for multi-class problem - Forest Cover Dataset .ipynb",
      "provenance": [],
      "collapsed_sections": [],
      "authorship_tag": "ABX9TyO3iFZ3MZcrOGcoZ/uytrEN",
      "include_colab_link": true
    },
    "kernelspec": {
      "name": "python3",
      "display_name": "Python 3"
    }
  },
  "cells": [
    {
      "cell_type": "markdown",
      "metadata": {
        "id": "view-in-github",
        "colab_type": "text"
      },
      "source": [
        "<a href=\"https://colab.research.google.com/github/akhilkv98/Keras-DNN/blob/master/Keras_DNN_for_multi_class_problem_Forest_Cover_Dataset_.ipynb\" target=\"_parent\"><img src=\"https://colab.research.google.com/assets/colab-badge.svg\" alt=\"Open In Colab\"/></a>"
      ]
    },
    {
      "cell_type": "code",
      "metadata": {
        "id": "_kWzjC5BiuL1",
        "colab_type": "code",
        "colab": {}
      },
      "source": [
        "import numpy as np\n",
        "import pandas as pd\n",
        "import matplotlib.pyplot as plt\n",
        "\n",
        "from sklearn.datasets import fetch_covtype\n",
        "\n",
        "import tensorflow as tf\n",
        "from tensorflow import keras\n",
        "\n",
        "tf.random.set_seed(42)\n",
        "np.random.seed(42)\n",
        "\n",
        "\n",
        "X, y = fetch_covtype(return_X_y=True)\n",
        "\n",
        "\n"
      ],
      "execution_count": 0,
      "outputs": []
    },
    {
      "cell_type": "code",
      "metadata": {
        "id": "8mE77WdnjmUE",
        "colab_type": "code",
        "outputId": "dd981ee3-58dd-4f9d-b63f-a1ce3e34c576",
        "colab": {
          "base_uri": "https://localhost:8080/",
          "height": 84
        }
      },
      "source": [
        "print(type(X))\n",
        "\n",
        "print(X.shape)\n",
        "\n",
        "print(y.shape)\n",
        "\n",
        "X_10 = X[:,:10]\n",
        "\n",
        "print(X_10.shape)\n",
        "\n",
        "\n"
      ],
      "execution_count": 21,
      "outputs": [
        {
          "output_type": "stream",
          "text": [
            "<class 'numpy.ndarray'>\n",
            "(581012, 54)\n",
            "(581012,)\n",
            "(581012, 10)\n"
          ],
          "name": "stdout"
        }
      ]
    },
    {
      "cell_type": "code",
      "metadata": {
        "id": "OIV5df0PjxUt",
        "colab_type": "code",
        "outputId": "9e4319d1-df3d-4123-e440-b7295b85f5a9",
        "colab": {
          "base_uri": "https://localhost:8080/",
          "height": 67
        }
      },
      "source": [
        "from sklearn.model_selection import train_test_split\n",
        "\n",
        "\n",
        "\n",
        "X10_train, X10_test, y10_train, y10_test = train_test_split(X_10, y, test_size=0.1,stratify=y, random_state=42)\n",
        "\n",
        "\n",
        "\n",
        "print(X10_test.shape)\n",
        "\n",
        "X = X10_test\n",
        "y = y10_test\n",
        "\n",
        "\n",
        "print(set(y))\n",
        "\n",
        "print(set(y))\n"
      ],
      "execution_count": 22,
      "outputs": [
        {
          "output_type": "stream",
          "text": [
            "(58102, 10)\n",
            "{1, 2, 3, 4, 5, 6, 7}\n",
            "{1, 2, 3, 4, 5, 6, 7}\n"
          ],
          "name": "stdout"
        }
      ]
    },
    {
      "cell_type": "code",
      "metadata": {
        "id": "xa4EdIjrj0iX",
        "colab_type": "code",
        "colab": {
          "base_uri": "https://localhost:8080/",
          "height": 1000
        },
        "outputId": "110eb967-495e-4f28-dfab-d13b28b6b61c"
      },
      "source": [
        "from sklearn.model_selection import train_test_split\n",
        "\n",
        "X_train, X_test, y_train, y_test = train_test_split(X, y, test_size=0.2, stratify=y, random_state=42)\n",
        "\n",
        "\n",
        "print(X10_test.shape)\n",
        "\n",
        "\n",
        "X = X10_test\n",
        "y = y10_test\n",
        "\n",
        "\n",
        "print(set(y))\n",
        "\n",
        "y = y-1\n",
        "\n",
        "print(set(y))\n",
        "\n",
        "\n",
        "from sklearn.model_selection import train_test_split\n",
        "\n",
        "X_train, X_test, y_train, y_test = train_test_split(X, y, test_size=0.2,stratify=y, random_state=42) \n",
        "                                                    \n",
        "\n",
        "\n",
        "from sklearn.preprocessing import StandardScaler\n",
        "sc = StandardScaler()\n",
        "\n",
        "sc.fit(X_train)\n",
        "\n",
        "X_train_std = sc.transform(X_train)\n",
        "X_test_std = sc.transform(X_test)\n",
        "\n",
        "model_DNN = keras.models.Sequential()\n",
        "\n",
        "model_DNN.add(keras.layers.Dense(units=25, activation='relu', input_shape= X_train.shape[1:]))\n",
        "\n",
        "model_DNN.add(keras.layers.Dense(units=20, activation='relu'))\n",
        "model_DNN.add(keras.layers.Dense(units= 15, activation='relu'))\n",
        "model_DNN.add(keras.layers.Dense(units=10, activation='relu'))\n",
        "\n",
        "model_DNN.add(keras.layers.Dense(units=7, activation='sigmoid'))\n",
        "\n",
        "model_DNN.summary()\n",
        "\n",
        " \n",
        "model_DNN.compile(loss='sparse_categorical_crossentropy', optimizer='adam', metrics=['accuracy']) \n",
        "                  \n",
        "\n",
        "\n",
        "model_DNN.fit(x=X_train_std, y=y_train, validation_split=0.1, epochs=50, batch_size=16)\n",
        "\n",
        "\n",
        "\n",
        "\n",
        "test_loss, test_accuracy = model_DNN.evaluate(x=X_test_std, y=y_test)\n",
        "\n",
        "\n",
        "\n",
        "\n",
        "print(test_loss, test_accuracy)\n",
        "\n"
      ],
      "execution_count": 23,
      "outputs": [
        {
          "output_type": "stream",
          "text": [
            "(58102, 10)\n",
            "{1, 2, 3, 4, 5, 6, 7}\n",
            "{0, 1, 2, 3, 4, 5, 6}\n",
            "Model: \"sequential_3\"\n",
            "_________________________________________________________________\n",
            "Layer (type)                 Output Shape              Param #   \n",
            "=================================================================\n",
            "dense_15 (Dense)             (None, 25)                275       \n",
            "_________________________________________________________________\n",
            "dense_16 (Dense)             (None, 20)                520       \n",
            "_________________________________________________________________\n",
            "dense_17 (Dense)             (None, 15)                315       \n",
            "_________________________________________________________________\n",
            "dense_18 (Dense)             (None, 10)                160       \n",
            "_________________________________________________________________\n",
            "dense_19 (Dense)             (None, 7)                 77        \n",
            "=================================================================\n",
            "Total params: 1,347\n",
            "Trainable params: 1,347\n",
            "Non-trainable params: 0\n",
            "_________________________________________________________________\n",
            "Epoch 1/50\n",
            "2615/2615 [==============================] - 4s 2ms/step - loss: 0.8452 - accuracy: 0.5747 - val_loss: 0.6931 - val_accuracy: 0.7113\n",
            "Epoch 2/50\n",
            "2615/2615 [==============================] - 4s 2ms/step - loss: 0.6999 - accuracy: 0.6947 - val_loss: 0.6695 - val_accuracy: 0.7116\n",
            "Epoch 3/50\n",
            "2615/2615 [==============================] - 4s 2ms/step - loss: 0.6831 - accuracy: 0.6973 - val_loss: 0.6598 - val_accuracy: 0.7088\n",
            "Epoch 4/50\n",
            "2615/2615 [==============================] - 4s 1ms/step - loss: 0.6723 - accuracy: 0.6985 - val_loss: 0.6531 - val_accuracy: 0.7143\n",
            "Epoch 5/50\n",
            "2615/2615 [==============================] - 4s 1ms/step - loss: 0.6640 - accuracy: 0.7002 - val_loss: 0.6456 - val_accuracy: 0.7148\n",
            "Epoch 6/50\n",
            "2615/2615 [==============================] - 4s 1ms/step - loss: 0.6569 - accuracy: 0.7038 - val_loss: 0.6384 - val_accuracy: 0.7191\n",
            "Epoch 7/50\n",
            "2615/2615 [==============================] - 4s 1ms/step - loss: 0.6515 - accuracy: 0.7042 - val_loss: 0.6472 - val_accuracy: 0.7120\n",
            "Epoch 8/50\n",
            "2615/2615 [==============================] - 4s 1ms/step - loss: 0.6480 - accuracy: 0.7070 - val_loss: 0.6309 - val_accuracy: 0.7189\n",
            "Epoch 9/50\n",
            "2615/2615 [==============================] - 4s 2ms/step - loss: 0.6421 - accuracy: 0.7069 - val_loss: 0.6237 - val_accuracy: 0.7195\n",
            "Epoch 10/50\n",
            "2615/2615 [==============================] - 4s 1ms/step - loss: 0.6364 - accuracy: 0.7089 - val_loss: 0.6161 - val_accuracy: 0.7197\n",
            "Epoch 11/50\n",
            "2615/2615 [==============================] - 4s 1ms/step - loss: 0.6319 - accuracy: 0.7105 - val_loss: 0.6259 - val_accuracy: 0.7206\n",
            "Epoch 12/50\n",
            "2615/2615 [==============================] - 4s 2ms/step - loss: 0.6290 - accuracy: 0.7100 - val_loss: 0.6113 - val_accuracy: 0.7240\n",
            "Epoch 13/50\n",
            "2615/2615 [==============================] - 4s 2ms/step - loss: 0.6243 - accuracy: 0.7114 - val_loss: 0.6182 - val_accuracy: 0.7180\n",
            "Epoch 14/50\n",
            "2615/2615 [==============================] - 4s 2ms/step - loss: 0.6206 - accuracy: 0.7119 - val_loss: 0.6261 - val_accuracy: 0.7068\n",
            "Epoch 15/50\n",
            "2615/2615 [==============================] - 4s 2ms/step - loss: 0.6170 - accuracy: 0.7115 - val_loss: 0.6053 - val_accuracy: 0.7227\n",
            "Epoch 16/50\n",
            "2615/2615 [==============================] - 4s 1ms/step - loss: 0.6137 - accuracy: 0.7139 - val_loss: 0.6017 - val_accuracy: 0.7236\n",
            "Epoch 17/50\n",
            "2615/2615 [==============================] - 4s 1ms/step - loss: 0.6115 - accuracy: 0.7135 - val_loss: 0.6064 - val_accuracy: 0.7154\n",
            "Epoch 18/50\n",
            "2615/2615 [==============================] - 4s 2ms/step - loss: 0.6088 - accuracy: 0.7154 - val_loss: 0.6154 - val_accuracy: 0.7131\n",
            "Epoch 19/50\n",
            "2615/2615 [==============================] - 4s 2ms/step - loss: 0.6058 - accuracy: 0.7154 - val_loss: 0.5930 - val_accuracy: 0.7208\n",
            "Epoch 20/50\n",
            "2615/2615 [==============================] - 4s 2ms/step - loss: 0.6039 - accuracy: 0.7166 - val_loss: 0.5981 - val_accuracy: 0.7232\n",
            "Epoch 21/50\n",
            "2615/2615 [==============================] - 4s 2ms/step - loss: 0.6013 - accuracy: 0.7167 - val_loss: 0.5910 - val_accuracy: 0.7273\n",
            "Epoch 22/50\n",
            "2615/2615 [==============================] - 4s 2ms/step - loss: 0.5992 - accuracy: 0.7172 - val_loss: 0.5901 - val_accuracy: 0.7236\n",
            "Epoch 23/50\n",
            "2615/2615 [==============================] - 4s 2ms/step - loss: 0.5986 - accuracy: 0.7173 - val_loss: 0.5862 - val_accuracy: 0.7249\n",
            "Epoch 24/50\n",
            "2615/2615 [==============================] - 4s 2ms/step - loss: 0.5956 - accuracy: 0.7186 - val_loss: 0.5856 - val_accuracy: 0.7281\n",
            "Epoch 25/50\n",
            "2615/2615 [==============================] - 4s 2ms/step - loss: 0.5930 - accuracy: 0.7186 - val_loss: 0.5813 - val_accuracy: 0.7285\n",
            "Epoch 26/50\n",
            "2615/2615 [==============================] - 4s 1ms/step - loss: 0.5923 - accuracy: 0.7183 - val_loss: 0.5850 - val_accuracy: 0.7245\n",
            "Epoch 27/50\n",
            "2615/2615 [==============================] - 4s 2ms/step - loss: 0.5901 - accuracy: 0.7207 - val_loss: 0.5883 - val_accuracy: 0.7298\n",
            "Epoch 28/50\n",
            "2615/2615 [==============================] - 4s 1ms/step - loss: 0.5897 - accuracy: 0.7194 - val_loss: 0.5909 - val_accuracy: 0.7264\n",
            "Epoch 29/50\n",
            "2615/2615 [==============================] - 4s 2ms/step - loss: 0.5878 - accuracy: 0.7218 - val_loss: 0.5829 - val_accuracy: 0.7268\n",
            "Epoch 30/50\n",
            "2615/2615 [==============================] - 4s 2ms/step - loss: 0.5851 - accuracy: 0.7216 - val_loss: 0.5801 - val_accuracy: 0.7335\n",
            "Epoch 31/50\n",
            "2615/2615 [==============================] - 4s 1ms/step - loss: 0.5855 - accuracy: 0.7224 - val_loss: 0.5756 - val_accuracy: 0.7292\n",
            "Epoch 32/50\n",
            "2615/2615 [==============================] - 4s 1ms/step - loss: 0.5829 - accuracy: 0.7226 - val_loss: 0.5725 - val_accuracy: 0.7320\n",
            "Epoch 33/50\n",
            "2615/2615 [==============================] - 4s 1ms/step - loss: 0.5830 - accuracy: 0.7233 - val_loss: 0.5795 - val_accuracy: 0.7313\n",
            "Epoch 34/50\n",
            "2615/2615 [==============================] - 4s 2ms/step - loss: 0.5810 - accuracy: 0.7266 - val_loss: 0.5750 - val_accuracy: 0.7318\n",
            "Epoch 35/50\n",
            "2615/2615 [==============================] - 4s 1ms/step - loss: 0.5787 - accuracy: 0.7271 - val_loss: 0.5788 - val_accuracy: 0.7354\n",
            "Epoch 36/50\n",
            "2615/2615 [==============================] - 4s 1ms/step - loss: 0.5771 - accuracy: 0.7290 - val_loss: 0.5704 - val_accuracy: 0.7399\n",
            "Epoch 37/50\n",
            "2615/2615 [==============================] - 4s 2ms/step - loss: 0.5747 - accuracy: 0.7329 - val_loss: 0.5724 - val_accuracy: 0.7352\n",
            "Epoch 38/50\n",
            "2615/2615 [==============================] - 4s 1ms/step - loss: 0.5749 - accuracy: 0.7328 - val_loss: 0.5700 - val_accuracy: 0.7397\n",
            "Epoch 39/50\n",
            "2615/2615 [==============================] - 4s 1ms/step - loss: 0.5727 - accuracy: 0.7337 - val_loss: 0.5743 - val_accuracy: 0.7346\n",
            "Epoch 40/50\n",
            "2615/2615 [==============================] - 4s 1ms/step - loss: 0.5706 - accuracy: 0.7340 - val_loss: 0.5726 - val_accuracy: 0.7337\n",
            "Epoch 41/50\n",
            "2615/2615 [==============================] - 4s 1ms/step - loss: 0.5681 - accuracy: 0.7352 - val_loss: 0.5591 - val_accuracy: 0.7417\n",
            "Epoch 42/50\n",
            "2615/2615 [==============================] - 4s 1ms/step - loss: 0.5692 - accuracy: 0.7372 - val_loss: 0.5653 - val_accuracy: 0.7414\n",
            "Epoch 43/50\n",
            "2615/2615 [==============================] - 4s 2ms/step - loss: 0.5656 - accuracy: 0.7370 - val_loss: 0.5579 - val_accuracy: 0.7414\n",
            "Epoch 44/50\n",
            "2615/2615 [==============================] - 4s 1ms/step - loss: 0.5649 - accuracy: 0.7368 - val_loss: 0.5533 - val_accuracy: 0.7449\n",
            "Epoch 45/50\n",
            "2615/2615 [==============================] - 4s 1ms/step - loss: 0.5629 - accuracy: 0.7384 - val_loss: 0.5702 - val_accuracy: 0.7399\n",
            "Epoch 46/50\n",
            "2615/2615 [==============================] - 4s 1ms/step - loss: 0.5632 - accuracy: 0.7391 - val_loss: 0.5707 - val_accuracy: 0.7365\n",
            "Epoch 47/50\n",
            "2615/2615 [==============================] - 4s 2ms/step - loss: 0.5612 - accuracy: 0.7382 - val_loss: 0.5535 - val_accuracy: 0.7458\n",
            "Epoch 48/50\n",
            "2615/2615 [==============================] - 4s 1ms/step - loss: 0.5606 - accuracy: 0.7405 - val_loss: 0.5589 - val_accuracy: 0.7423\n",
            "Epoch 49/50\n",
            "2615/2615 [==============================] - 4s 1ms/step - loss: 0.5596 - accuracy: 0.7400 - val_loss: 0.5606 - val_accuracy: 0.7427\n",
            "Epoch 50/50\n",
            "2615/2615 [==============================] - 4s 1ms/step - loss: 0.5578 - accuracy: 0.7409 - val_loss: 0.5611 - val_accuracy: 0.7414\n",
            "364/364 [==============================] - 0s 1ms/step - loss: 0.5907 - accuracy: 0.7294\n",
            "0.5907073616981506 0.7293692231178284\n"
          ],
          "name": "stdout"
        }
      ]
    },
    {
      "cell_type": "code",
      "metadata": {
        "id": "07dg_Tc8tSm_",
        "colab_type": "code",
        "colab": {}
      },
      "source": [
        ""
      ],
      "execution_count": 0,
      "outputs": []
    }
  ]
}